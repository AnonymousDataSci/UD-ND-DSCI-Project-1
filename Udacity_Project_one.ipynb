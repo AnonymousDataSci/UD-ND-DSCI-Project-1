{
 "cells": [
  {
   "cell_type": "markdown",
   "id": "16785ffc",
   "metadata": {},
   "source": [
    "# Stackoverflow Data\n",
    "## by Anonymous Data Sci\n",
    "\n",
    "## Table of Content\n",
    "\n",
    "\n",
    "## Introduction\n",
    "For this project I decided to analyse the Stackoverflow dataset: \n",
    "https://insights.stackoverflow.com/survey\n",
    "using the CRISP-DM Process of:\n",
    "\n",
    "1. Business Understanding\n",
    "2. Data Understanding\n",
    "3. Prepare Data\n",
    "4. Data Modeling\n",
    "5. Evaluate the Results\n",
    "6. Deploy\n",
    "\n",
    "## Business Understanding\n",
    "In 2020 the pandemic changed the way we worked. In the Dataset I want to understand in which way home office was adapted and changed over the pandemic. Question that can be asked is:\n",
    "- How many adaption\n",
    "- Which countries\n",
    "- etc\n",
    "\n",
    "## Data Unterstanding and Prepare the Data"
   ]
  },
  {
   "cell_type": "code",
   "execution_count": 617,
   "id": "6dff933a",
   "metadata": {},
   "outputs": [],
   "source": [
    "# Import Libaries\n",
    "import numpy as np\n",
    "import pandas as pd\n",
    "import matplotlib.pyplot as plt\n",
    "import seaborn as sns\n",
    "#from sklearn.cross_validation import train_test_split\n",
    "#from sklearn.metrics import accuracy_score\n",
    "#from sklearn.linear_model import LogisticRegression\n",
    "#from sklearn import tree\n",
    "from scipy.stats import ks_2samp\n",
    "%matplotlib inline"
   ]
  },
  {
   "cell_type": "code",
   "execution_count": 618,
   "id": "d37cc6e3",
   "metadata": {},
   "outputs": [],
   "source": [
    "# Load Data\n",
    "\n",
    "#2019\n",
    "data_2019 = pd.read_csv('./2019/survey_results_public.csv')\n",
    "scheme_2019 = pd.read_csv('./2019/survey_results_schema.csv')\n",
    "#2020\n",
    "data_2020 = pd.read_csv('./2020/survey_results_public.csv')\n",
    "#2021\n",
    "data_2021 = pd.read_csv('./2021/survey_results_public.csv')"
   ]
  },
  {
   "cell_type": "code",
   "execution_count": 619,
   "id": "e93f640d",
   "metadata": {
    "scrolled": true
   },
   "outputs": [
    {
     "data": {
      "text/plain": [
       "(88883, 85)"
      ]
     },
     "execution_count": 619,
     "metadata": {},
     "output_type": "execute_result"
    }
   ],
   "source": [
    "data_2019.shape"
   ]
  },
  {
   "cell_type": "code",
   "execution_count": 620,
   "id": "e8e0010b",
   "metadata": {},
   "outputs": [
    {
     "data": {
      "text/html": [
       "<div>\n",
       "<style scoped>\n",
       "    .dataframe tbody tr th:only-of-type {\n",
       "        vertical-align: middle;\n",
       "    }\n",
       "\n",
       "    .dataframe tbody tr th {\n",
       "        vertical-align: top;\n",
       "    }\n",
       "\n",
       "    .dataframe thead th {\n",
       "        text-align: right;\n",
       "    }\n",
       "</style>\n",
       "<table border=\"1\" class=\"dataframe\">\n",
       "  <thead>\n",
       "    <tr style=\"text-align: right;\">\n",
       "      <th></th>\n",
       "      <th>Respondent</th>\n",
       "      <th>MainBranch</th>\n",
       "      <th>Hobbyist</th>\n",
       "      <th>OpenSourcer</th>\n",
       "      <th>OpenSource</th>\n",
       "      <th>Employment</th>\n",
       "      <th>Country</th>\n",
       "      <th>Student</th>\n",
       "      <th>EdLevel</th>\n",
       "      <th>UndergradMajor</th>\n",
       "      <th>...</th>\n",
       "      <th>WelcomeChange</th>\n",
       "      <th>SONewContent</th>\n",
       "      <th>Age</th>\n",
       "      <th>Gender</th>\n",
       "      <th>Trans</th>\n",
       "      <th>Sexuality</th>\n",
       "      <th>Ethnicity</th>\n",
       "      <th>Dependents</th>\n",
       "      <th>SurveyLength</th>\n",
       "      <th>SurveyEase</th>\n",
       "    </tr>\n",
       "  </thead>\n",
       "  <tbody>\n",
       "    <tr>\n",
       "      <th>0</th>\n",
       "      <td>1</td>\n",
       "      <td>I am a student who is learning to code</td>\n",
       "      <td>Yes</td>\n",
       "      <td>Never</td>\n",
       "      <td>The quality of OSS and closed source software ...</td>\n",
       "      <td>Not employed, and not looking for work</td>\n",
       "      <td>United Kingdom</td>\n",
       "      <td>No</td>\n",
       "      <td>Primary/elementary school</td>\n",
       "      <td>NaN</td>\n",
       "      <td>...</td>\n",
       "      <td>Just as welcome now as I felt last year</td>\n",
       "      <td>Tech articles written by other developers;Indu...</td>\n",
       "      <td>14.0</td>\n",
       "      <td>Man</td>\n",
       "      <td>No</td>\n",
       "      <td>Straight / Heterosexual</td>\n",
       "      <td>NaN</td>\n",
       "      <td>No</td>\n",
       "      <td>Appropriate in length</td>\n",
       "      <td>Neither easy nor difficult</td>\n",
       "    </tr>\n",
       "    <tr>\n",
       "      <th>1</th>\n",
       "      <td>2</td>\n",
       "      <td>I am a student who is learning to code</td>\n",
       "      <td>No</td>\n",
       "      <td>Less than once per year</td>\n",
       "      <td>The quality of OSS and closed source software ...</td>\n",
       "      <td>Not employed, but looking for work</td>\n",
       "      <td>Bosnia and Herzegovina</td>\n",
       "      <td>Yes, full-time</td>\n",
       "      <td>Secondary school (e.g. American high school, G...</td>\n",
       "      <td>NaN</td>\n",
       "      <td>...</td>\n",
       "      <td>Just as welcome now as I felt last year</td>\n",
       "      <td>Tech articles written by other developers;Indu...</td>\n",
       "      <td>19.0</td>\n",
       "      <td>Man</td>\n",
       "      <td>No</td>\n",
       "      <td>Straight / Heterosexual</td>\n",
       "      <td>NaN</td>\n",
       "      <td>No</td>\n",
       "      <td>Appropriate in length</td>\n",
       "      <td>Neither easy nor difficult</td>\n",
       "    </tr>\n",
       "    <tr>\n",
       "      <th>2</th>\n",
       "      <td>3</td>\n",
       "      <td>I am not primarily a developer, but I write co...</td>\n",
       "      <td>Yes</td>\n",
       "      <td>Never</td>\n",
       "      <td>The quality of OSS and closed source software ...</td>\n",
       "      <td>Employed full-time</td>\n",
       "      <td>Thailand</td>\n",
       "      <td>No</td>\n",
       "      <td>Bachelor’s degree (BA, BS, B.Eng., etc.)</td>\n",
       "      <td>Web development or web design</td>\n",
       "      <td>...</td>\n",
       "      <td>Just as welcome now as I felt last year</td>\n",
       "      <td>Tech meetups or events in your area;Courses on...</td>\n",
       "      <td>28.0</td>\n",
       "      <td>Man</td>\n",
       "      <td>No</td>\n",
       "      <td>Straight / Heterosexual</td>\n",
       "      <td>NaN</td>\n",
       "      <td>Yes</td>\n",
       "      <td>Appropriate in length</td>\n",
       "      <td>Neither easy nor difficult</td>\n",
       "    </tr>\n",
       "    <tr>\n",
       "      <th>3</th>\n",
       "      <td>4</td>\n",
       "      <td>I am a developer by profession</td>\n",
       "      <td>No</td>\n",
       "      <td>Never</td>\n",
       "      <td>The quality of OSS and closed source software ...</td>\n",
       "      <td>Employed full-time</td>\n",
       "      <td>United States</td>\n",
       "      <td>No</td>\n",
       "      <td>Bachelor’s degree (BA, BS, B.Eng., etc.)</td>\n",
       "      <td>Computer science, computer engineering, or sof...</td>\n",
       "      <td>...</td>\n",
       "      <td>Just as welcome now as I felt last year</td>\n",
       "      <td>Tech articles written by other developers;Indu...</td>\n",
       "      <td>22.0</td>\n",
       "      <td>Man</td>\n",
       "      <td>No</td>\n",
       "      <td>Straight / Heterosexual</td>\n",
       "      <td>White or of European descent</td>\n",
       "      <td>No</td>\n",
       "      <td>Appropriate in length</td>\n",
       "      <td>Easy</td>\n",
       "    </tr>\n",
       "    <tr>\n",
       "      <th>4</th>\n",
       "      <td>5</td>\n",
       "      <td>I am a developer by profession</td>\n",
       "      <td>Yes</td>\n",
       "      <td>Once a month or more often</td>\n",
       "      <td>OSS is, on average, of HIGHER quality than pro...</td>\n",
       "      <td>Employed full-time</td>\n",
       "      <td>Ukraine</td>\n",
       "      <td>No</td>\n",
       "      <td>Bachelor’s degree (BA, BS, B.Eng., etc.)</td>\n",
       "      <td>Computer science, computer engineering, or sof...</td>\n",
       "      <td>...</td>\n",
       "      <td>Just as welcome now as I felt last year</td>\n",
       "      <td>Tech meetups or events in your area;Courses on...</td>\n",
       "      <td>30.0</td>\n",
       "      <td>Man</td>\n",
       "      <td>No</td>\n",
       "      <td>Straight / Heterosexual</td>\n",
       "      <td>White or of European descent;Multiracial</td>\n",
       "      <td>No</td>\n",
       "      <td>Appropriate in length</td>\n",
       "      <td>Easy</td>\n",
       "    </tr>\n",
       "  </tbody>\n",
       "</table>\n",
       "<p>5 rows × 85 columns</p>\n",
       "</div>"
      ],
      "text/plain": [
       "   Respondent                                         MainBranch Hobbyist  \\\n",
       "0           1             I am a student who is learning to code      Yes   \n",
       "1           2             I am a student who is learning to code       No   \n",
       "2           3  I am not primarily a developer, but I write co...      Yes   \n",
       "3           4                     I am a developer by profession       No   \n",
       "4           5                     I am a developer by profession      Yes   \n",
       "\n",
       "                  OpenSourcer  \\\n",
       "0                       Never   \n",
       "1     Less than once per year   \n",
       "2                       Never   \n",
       "3                       Never   \n",
       "4  Once a month or more often   \n",
       "\n",
       "                                          OpenSource  \\\n",
       "0  The quality of OSS and closed source software ...   \n",
       "1  The quality of OSS and closed source software ...   \n",
       "2  The quality of OSS and closed source software ...   \n",
       "3  The quality of OSS and closed source software ...   \n",
       "4  OSS is, on average, of HIGHER quality than pro...   \n",
       "\n",
       "                               Employment                 Country  \\\n",
       "0  Not employed, and not looking for work          United Kingdom   \n",
       "1      Not employed, but looking for work  Bosnia and Herzegovina   \n",
       "2                      Employed full-time                Thailand   \n",
       "3                      Employed full-time           United States   \n",
       "4                      Employed full-time                 Ukraine   \n",
       "\n",
       "          Student                                            EdLevel  \\\n",
       "0              No                          Primary/elementary school   \n",
       "1  Yes, full-time  Secondary school (e.g. American high school, G...   \n",
       "2              No           Bachelor’s degree (BA, BS, B.Eng., etc.)   \n",
       "3              No           Bachelor’s degree (BA, BS, B.Eng., etc.)   \n",
       "4              No           Bachelor’s degree (BA, BS, B.Eng., etc.)   \n",
       "\n",
       "                                      UndergradMajor  ...  \\\n",
       "0                                                NaN  ...   \n",
       "1                                                NaN  ...   \n",
       "2                      Web development or web design  ...   \n",
       "3  Computer science, computer engineering, or sof...  ...   \n",
       "4  Computer science, computer engineering, or sof...  ...   \n",
       "\n",
       "                             WelcomeChange  \\\n",
       "0  Just as welcome now as I felt last year   \n",
       "1  Just as welcome now as I felt last year   \n",
       "2  Just as welcome now as I felt last year   \n",
       "3  Just as welcome now as I felt last year   \n",
       "4  Just as welcome now as I felt last year   \n",
       "\n",
       "                                        SONewContent   Age Gender Trans  \\\n",
       "0  Tech articles written by other developers;Indu...  14.0    Man    No   \n",
       "1  Tech articles written by other developers;Indu...  19.0    Man    No   \n",
       "2  Tech meetups or events in your area;Courses on...  28.0    Man    No   \n",
       "3  Tech articles written by other developers;Indu...  22.0    Man    No   \n",
       "4  Tech meetups or events in your area;Courses on...  30.0    Man    No   \n",
       "\n",
       "                 Sexuality                                 Ethnicity  \\\n",
       "0  Straight / Heterosexual                                       NaN   \n",
       "1  Straight / Heterosexual                                       NaN   \n",
       "2  Straight / Heterosexual                                       NaN   \n",
       "3  Straight / Heterosexual              White or of European descent   \n",
       "4  Straight / Heterosexual  White or of European descent;Multiracial   \n",
       "\n",
       "  Dependents           SurveyLength                  SurveyEase  \n",
       "0         No  Appropriate in length  Neither easy nor difficult  \n",
       "1         No  Appropriate in length  Neither easy nor difficult  \n",
       "2        Yes  Appropriate in length  Neither easy nor difficult  \n",
       "3         No  Appropriate in length                        Easy  \n",
       "4         No  Appropriate in length                        Easy  \n",
       "\n",
       "[5 rows x 85 columns]"
      ]
     },
     "execution_count": 620,
     "metadata": {},
     "output_type": "execute_result"
    }
   ],
   "source": [
    "#What does the suvery look like\n",
    "data_2019.head()"
   ]
  },
  {
   "cell_type": "code",
   "execution_count": 621,
   "id": "e42325c9",
   "metadata": {
    "scrolled": true
   },
   "outputs": [
    {
     "name": "stdout",
     "output_type": "stream",
     "text": [
      "<class 'pandas.core.frame.DataFrame'>\n",
      "RangeIndex: 88883 entries, 0 to 88882\n",
      "Data columns (total 85 columns):\n",
      " #   Column                  Non-Null Count  Dtype  \n",
      "---  ------                  --------------  -----  \n",
      " 0   Respondent              88883 non-null  int64  \n",
      " 1   MainBranch              88331 non-null  object \n",
      " 2   Hobbyist                88883 non-null  object \n",
      " 3   OpenSourcer             88883 non-null  object \n",
      " 4   OpenSource              86842 non-null  object \n",
      " 5   Employment              87181 non-null  object \n",
      " 6   Country                 88751 non-null  object \n",
      " 7   Student                 87014 non-null  object \n",
      " 8   EdLevel                 86390 non-null  object \n",
      " 9   UndergradMajor          75614 non-null  object \n",
      " 10  EduOther                84260 non-null  object \n",
      " 11  OrgSize                 71791 non-null  object \n",
      " 12  DevType                 81335 non-null  object \n",
      " 13  YearsCode               87938 non-null  object \n",
      " 14  Age1stCode              87634 non-null  object \n",
      " 15  YearsCodePro            74331 non-null  object \n",
      " 16  CareerSat               72847 non-null  object \n",
      " 17  JobSat                  70988 non-null  object \n",
      " 18  MgrIdiot                61159 non-null  object \n",
      " 19  MgrMoney                61157 non-null  object \n",
      " 20  MgrWant                 61232 non-null  object \n",
      " 21  JobSeek                 80555 non-null  object \n",
      " 22  LastHireDate            79854 non-null  object \n",
      " 23  LastInt                 67155 non-null  object \n",
      " 24  FizzBuzz                71344 non-null  object \n",
      " 25  JobFactors              79371 non-null  object \n",
      " 26  ResumeUpdate            77877 non-null  object \n",
      " 27  CurrencySymbol          71392 non-null  object \n",
      " 28  CurrencyDesc            71392 non-null  object \n",
      " 29  CompTotal               55945 non-null  float64\n",
      " 30  CompFreq                63268 non-null  object \n",
      " 31  ConvertedComp           55823 non-null  float64\n",
      " 32  WorkWeekHrs             64503 non-null  float64\n",
      " 33  WorkPlan                68914 non-null  object \n",
      " 34  WorkChallenge           68141 non-null  object \n",
      " 35  WorkRemote              70284 non-null  object \n",
      " 36  WorkLoc                 70055 non-null  object \n",
      " 37  ImpSyn                  71779 non-null  object \n",
      " 38  CodeRev                 70390 non-null  object \n",
      " 39  CodeRevHrs              49790 non-null  float64\n",
      " 40  UnitTests               62668 non-null  object \n",
      " 41  PurchaseHow             61108 non-null  object \n",
      " 42  PurchaseWhat            62029 non-null  object \n",
      " 43  LanguageWorkedWith      87569 non-null  object \n",
      " 44  LanguageDesireNextYear  84088 non-null  object \n",
      " 45  DatabaseWorkedWith      76026 non-null  object \n",
      " 46  DatabaseDesireNextYear  69147 non-null  object \n",
      " 47  PlatformWorkedWith      80714 non-null  object \n",
      " 48  PlatformDesireNextYear  77443 non-null  object \n",
      " 49  WebFrameWorkedWith      65022 non-null  object \n",
      " 50  WebFrameDesireNextYear  62944 non-null  object \n",
      " 51  MiscTechWorkedWith      59586 non-null  object \n",
      " 52  MiscTechDesireNextYear  64511 non-null  object \n",
      " 53  DevEnviron              87317 non-null  object \n",
      " 54  OpSys                   87851 non-null  object \n",
      " 55  Containers              85366 non-null  object \n",
      " 56  BlockchainOrg           48175 non-null  object \n",
      " 57  BlockchainIs            60165 non-null  object \n",
      " 58  BetterLife              86269 non-null  object \n",
      " 59  ITperson                87141 non-null  object \n",
      " 60  OffOn                   86663 non-null  object \n",
      " 61  SocialMedia             84437 non-null  object \n",
      " 62  Extraversion            87305 non-null  object \n",
      " 63  ScreenName              80486 non-null  object \n",
      " 64  SOVisit1st              83877 non-null  object \n",
      " 65  SOVisitFreq             88263 non-null  object \n",
      " 66  SOVisitTo               88086 non-null  object \n",
      " 67  SOFindAnswer            87816 non-null  object \n",
      " 68  SOTimeSaved             86344 non-null  object \n",
      " 69  SOHowMuchTime           68378 non-null  object \n",
      " 70  SOAccount               87828 non-null  object \n",
      " 71  SOPartFreq              74692 non-null  object \n",
      " 72  SOJobs                  88066 non-null  object \n",
      " 73  EntTeams                87841 non-null  object \n",
      " 74  SOComm                  88131 non-null  object \n",
      " 75  WelcomeChange           85855 non-null  object \n",
      " 76  SONewContent            69560 non-null  object \n",
      " 77  Age                     79210 non-null  float64\n",
      " 78  Gender                  85406 non-null  object \n",
      " 79  Trans                   83607 non-null  object \n",
      " 80  Sexuality               76147 non-null  object \n",
      " 81  Ethnicity               76668 non-null  object \n",
      " 82  Dependents              83059 non-null  object \n",
      " 83  SurveyLength            86984 non-null  object \n",
      " 84  SurveyEase              87081 non-null  object \n",
      "dtypes: float64(5), int64(1), object(79)\n",
      "memory usage: 57.6+ MB\n"
     ]
    }
   ],
   "source": [
    "#The data inlcudes 47 columss and 83439 rows\n",
    "# Which Data would be intreseting to understand home office adaption\n",
    "data_2019.info()"
   ]
  },
  {
   "cell_type": "code",
   "execution_count": 622,
   "id": "e872aca0",
   "metadata": {
    "scrolled": false
   },
   "outputs": [
    {
     "name": "stdout",
     "output_type": "stream",
     "text": [
      "<class 'pandas.core.frame.DataFrame'>\n",
      "RangeIndex: 64461 entries, 0 to 64460\n",
      "Data columns (total 61 columns):\n",
      " #   Column                        Non-Null Count  Dtype  \n",
      "---  ------                        --------------  -----  \n",
      " 0   Respondent                    64461 non-null  int64  \n",
      " 1   MainBranch                    64162 non-null  object \n",
      " 2   Hobbyist                      64416 non-null  object \n",
      " 3   Age                           45446 non-null  float64\n",
      " 4   Age1stCode                    57900 non-null  object \n",
      " 5   CompFreq                      40069 non-null  object \n",
      " 6   CompTotal                     34826 non-null  float64\n",
      " 7   ConvertedComp                 34756 non-null  float64\n",
      " 8   Country                       64072 non-null  object \n",
      " 9   CurrencyDesc                  45472 non-null  object \n",
      " 10  CurrencySymbol                45472 non-null  object \n",
      " 11  DatabaseDesireNextYear        44070 non-null  object \n",
      " 12  DatabaseWorkedWith            49537 non-null  object \n",
      " 13  DevType                       49370 non-null  object \n",
      " 14  EdLevel                       57431 non-null  object \n",
      " 15  Employment                    63854 non-null  object \n",
      " 16  Ethnicity                     45948 non-null  object \n",
      " 17  Gender                        50557 non-null  object \n",
      " 18  JobFactors                    49349 non-null  object \n",
      " 19  JobSat                        45194 non-null  object \n",
      " 20  JobSeek                       51727 non-null  object \n",
      " 21  LanguageDesireNextYear        54113 non-null  object \n",
      " 22  LanguageWorkedWith            57378 non-null  object \n",
      " 23  MiscTechDesireNextYear        42379 non-null  object \n",
      " 24  MiscTechWorkedWith            40314 non-null  object \n",
      " 25  NEWCollabToolsDesireNextYear  47287 non-null  object \n",
      " 26  NEWCollabToolsWorkedWith      52883 non-null  object \n",
      " 27  NEWDevOps                     42686 non-null  object \n",
      " 28  NEWDevOpsImpt                 41732 non-null  object \n",
      " 29  NEWEdImpt                     48465 non-null  object \n",
      " 30  NEWJobHunt                    42286 non-null  object \n",
      " 31  NEWJobHuntResearch            41022 non-null  object \n",
      " 32  NEWLearn                      56156 non-null  object \n",
      " 33  NEWOffTopic                   50804 non-null  object \n",
      " 34  NEWOnboardGood                42623 non-null  object \n",
      " 35  NEWOtherComms                 57205 non-null  object \n",
      " 36  NEWOvertime                   43231 non-null  object \n",
      " 37  NEWPurchaseResearch           37321 non-null  object \n",
      " 38  NEWPurpleLink                 54803 non-null  object \n",
      " 39  NEWSOSites                    58275 non-null  object \n",
      " 40  NEWStuck                      54983 non-null  object \n",
      " 41  OpSys                         56228 non-null  object \n",
      " 42  OrgSize                       44334 non-null  object \n",
      " 43  PlatformDesireNextYear        50605 non-null  object \n",
      " 44  PlatformWorkedWith            53843 non-null  object \n",
      " 45  PurchaseWhat                  39364 non-null  object \n",
      " 46  Sexuality                     43992 non-null  object \n",
      " 47  SOAccount                     56805 non-null  object \n",
      " 48  SOComm                        56476 non-null  object \n",
      " 49  SOPartFreq                    46792 non-null  object \n",
      " 50  SOVisitFreq                   56970 non-null  object \n",
      " 51  SurveyEase                    51802 non-null  object \n",
      " 52  SurveyLength                  51701 non-null  object \n",
      " 53  Trans                         49345 non-null  object \n",
      " 54  UndergradMajor                50995 non-null  object \n",
      " 55  WebframeDesireNextYear        40024 non-null  object \n",
      " 56  WebframeWorkedWith            42279 non-null  object \n",
      " 57  WelcomeChange                 52683 non-null  object \n",
      " 58  WorkWeekHrs                   41151 non-null  float64\n",
      " 59  YearsCode                     57684 non-null  object \n",
      " 60  YearsCodePro                  46349 non-null  object \n",
      "dtypes: float64(4), int64(1), object(56)\n",
      "memory usage: 30.0+ MB\n"
     ]
    }
   ],
   "source": [
    "data_2020.info()"
   ]
  },
  {
   "cell_type": "markdown",
   "id": "26cdcaf2",
   "metadata": {},
   "source": [
    "Extract the columns that are intersting for the home office analysis\n",
    "- Country\n",
    "- Empoyment\n",
    "- Ed Level\n",
    "- OrgSize\n",
    "- Years Code\n",
    "- JobSatisifaction\n",
    "- JobSeek\n",
    "- Last Hire Date\n",
    "- Work Remote\n",
    "- Work Loc\n",
    "- Age\n",
    "- Gender\n",
    "- Work Week Hours\n"
   ]
  },
  {
   "cell_type": "code",
   "execution_count": 623,
   "id": "fef8ad2f",
   "metadata": {},
   "outputs": [
    {
     "data": {
      "text/plain": [
       "Employed full-time                                      64440\n",
       "Independent contractor, freelancer, or self-employed     8511\n",
       "Not employed, but looking for work                       5600\n",
       "Employed part-time                                       4469\n",
       "Not employed, and not looking for work                   3803\n",
       "Retired                                                   358\n",
       "Name: Employment, dtype: int64"
      ]
     },
     "execution_count": 623,
     "metadata": {},
     "output_type": "execute_result"
    }
   ],
   "source": [
    "# Cleaning Data\n",
    "data_2019.Employment.value_counts()"
   ]
  },
  {
   "cell_type": "code",
   "execution_count": 624,
   "id": "90cbb7c0",
   "metadata": {},
   "outputs": [
    {
     "data": {
      "text/plain": [
       "Employed full-time                                      45270\n",
       "Student                                                  7787\n",
       "Independent contractor, freelancer, or self-employed     5672\n",
       "Not employed, but looking for work                       2343\n",
       "Employed part-time                                       2217\n",
       "Not employed, and not looking for work                    322\n",
       "Retired                                                   243\n",
       "Name: Employment, dtype: int64"
      ]
     },
     "execution_count": 624,
     "metadata": {},
     "output_type": "execute_result"
    }
   ],
   "source": [
    "data_2020.Employment.value_counts()"
   ]
  },
  {
   "cell_type": "code",
   "execution_count": 625,
   "id": "34205349",
   "metadata": {},
   "outputs": [],
   "source": [
    "data_2019_clean = data_2019[(data_2019.Employment!='Retired')& (data_2019.Employment!='Not employed, but looking for work') & (data_2019.Employment!='Not employed, and not looking for work')]"
   ]
  },
  {
   "cell_type": "code",
   "execution_count": 626,
   "id": "554a5ff2",
   "metadata": {},
   "outputs": [
    {
     "data": {
      "text/plain": [
       "Employed full-time                                      64440\n",
       "Independent contractor, freelancer, or self-employed     8511\n",
       "Employed part-time                                       4469\n",
       "Name: Employment, dtype: int64"
      ]
     },
     "execution_count": 626,
     "metadata": {},
     "output_type": "execute_result"
    }
   ],
   "source": [
    "data_2019_clean.Employment.value_counts()"
   ]
  },
  {
   "cell_type": "code",
   "execution_count": 627,
   "id": "79cb86c5",
   "metadata": {},
   "outputs": [
    {
     "data": {
      "text/plain": [
       "Employed full-time                                      45270\n",
       "Independent contractor, freelancer, or self-employed     5672\n",
       "Employed part-time                                       2217\n",
       "Name: Employment, dtype: int64"
      ]
     },
     "execution_count": 627,
     "metadata": {},
     "output_type": "execute_result"
    }
   ],
   "source": [
    "data_2020_clean = data_2020[(data_2020.Employment!='Retired')& (data_2020.Employment!='Not employed, but looking for work') & (data_2020.Employment!='Not employed, and not looking for work') & (data_2020.Employment!='Student')]\n",
    "data_2020_clean.Employment.value_counts()"
   ]
  },
  {
   "cell_type": "code",
   "execution_count": 628,
   "id": "8281e748",
   "metadata": {},
   "outputs": [
    {
     "data": {
      "text/plain": [
       "Less than once per month / Never                           30220\n",
       "A few days each month                                      17242\n",
       "All or almost all the time (I'm full-time remote)           8465\n",
       "Less than half the time, but at least one day each week     6320\n",
       "It's complicated                                            3675\n",
       "More than half, but not all, the time                       2376\n",
       "About half the time                                         1986\n",
       "Name: WorkRemote, dtype: int64"
      ]
     },
     "execution_count": 628,
     "metadata": {},
     "output_type": "execute_result"
    }
   ],
   "source": [
    "data_2019_clean.WorkRemote.value_counts()"
   ]
  },
  {
   "cell_type": "markdown",
   "id": "537e75b1",
   "metadata": {},
   "source": [
    "#delete all rows that dont have information on remote work\n",
    "data_2019_clean = data_2019_clean.dropna(subset=['WorkRemote'], axis=0)\n",
    "data_2020_clean = data_2020_clean.dropna(subset=['WorkRemote'], axis=0)"
   ]
  },
  {
   "cell_type": "markdown",
   "id": "77c79675",
   "metadata": {},
   "source": [
    "## 1. How did the work amount change during the pandemic\n",
    "\n",
    "To answer this question, we look at the the distribution working hours of the employed. And perform a Two-sample Kolmogorov–Smirnov test, to see if the whether two underlying one-dimensional probability distributions differ. \n",
    "\n",
    "To gather the right data, we prepare the data set.\n",
    "### Data preperation"
   ]
  },
  {
   "cell_type": "code",
   "execution_count": 629,
   "id": "b2472823",
   "metadata": {},
   "outputs": [
    {
     "data": {
      "text/plain": [
       "Employed full-time                                      64440\n",
       "Independent contractor, freelancer, or self-employed     8511\n",
       "Not employed, but looking for work                       5600\n",
       "Employed part-time                                       4469\n",
       "Not employed, and not looking for work                   3803\n",
       "Retired                                                   358\n",
       "Name: Employment, dtype: int64"
      ]
     },
     "execution_count": 629,
     "metadata": {},
     "output_type": "execute_result"
    }
   ],
   "source": [
    "# Have a look at how the emploment status is\n",
    "data_2019.Employment.value_counts()"
   ]
  },
  {
   "cell_type": "code",
   "execution_count": 630,
   "id": "21928659",
   "metadata": {},
   "outputs": [
    {
     "data": {
      "text/plain": [
       "Employed full-time                                      45270\n",
       "Student                                                  7787\n",
       "Independent contractor, freelancer, or self-employed     5672\n",
       "Not employed, but looking for work                       2343\n",
       "Employed part-time                                       2217\n",
       "Not employed, and not looking for work                    322\n",
       "Retired                                                   243\n",
       "Name: Employment, dtype: int64"
      ]
     },
     "execution_count": 630,
     "metadata": {},
     "output_type": "execute_result"
    }
   ],
   "source": [
    "# Have a look at how the emploment status is\n",
    "data_2020.Employment.value_counts()"
   ]
  },
  {
   "cell_type": "code",
   "execution_count": 631,
   "id": "93300091",
   "metadata": {},
   "outputs": [
    {
     "data": {
      "text/plain": [
       "Employed full-time                                      64440\n",
       "Independent contractor, freelancer, or self-employed     8511\n",
       "Employed part-time                                       4469\n",
       "Name: Employment, dtype: int64"
      ]
     },
     "execution_count": 631,
     "metadata": {},
     "output_type": "execute_result"
    }
   ],
   "source": [
    "#Only keep the date that have currently a job\n",
    "data_2019_clean = data_2019[(data_2019.Employment!='Retired')& (data_2019.Employment!='Not employed, but looking for work') & (data_2019.Employment!='Not employed, and not looking for work')]\n",
    "data_2019_clean.Employment.value_counts()"
   ]
  },
  {
   "cell_type": "code",
   "execution_count": 632,
   "id": "f2b9d4f9",
   "metadata": {},
   "outputs": [
    {
     "data": {
      "text/plain": [
       "Employed full-time                                      45270\n",
       "Independent contractor, freelancer, or self-employed     5672\n",
       "Employed part-time                                       2217\n",
       "Name: Employment, dtype: int64"
      ]
     },
     "execution_count": 632,
     "metadata": {},
     "output_type": "execute_result"
    }
   ],
   "source": [
    "data_2020_clean = data_2020[(data_2020.Employment!='Retired')& (data_2020.Employment!='Not employed, but looking for work') & (data_2020.Employment!='Not employed, and not looking for work') & (data_2020.Employment!='Student')]\n",
    "data_2020_clean.Employment.value_counts()"
   ]
  },
  {
   "cell_type": "code",
   "execution_count": 633,
   "id": "a4afcced",
   "metadata": {},
   "outputs": [],
   "source": [
    "#drop the rows that dont contain no values for work hours\n",
    "data_2019_clean = data_2019_clean.dropna(subset=['WorkWeekHrs'], axis=0)\n",
    "data_2020_clean = data_2020_clean.dropna(subset=['WorkWeekHrs'], axis=0)"
   ]
  },
  {
   "cell_type": "code",
   "execution_count": 634,
   "id": "4b2e1cc6",
   "metadata": {
    "scrolled": true
   },
   "outputs": [
    {
     "data": {
      "text/plain": [
       "40.00    30131\n",
       "45.00     6352\n",
       "50.00     4656\n",
       "35.00     3159\n",
       "37.50     1662\n",
       "         ...  \n",
       "40.75        1\n",
       "26.25        1\n",
       "7.25         1\n",
       "39.75        1\n",
       "8.20         1\n",
       "Name: WorkWeekHrs, Length: 207, dtype: int64"
      ]
     },
     "execution_count": 634,
     "metadata": {},
     "output_type": "execute_result"
    }
   ],
   "source": [
    "#have a look at the numeric distribution of the work hours\n",
    "data_2019_clean.WorkWeekHrs.value_counts()"
   ]
  },
  {
   "cell_type": "code",
   "execution_count": 635,
   "id": "cee7cac5",
   "metadata": {
    "scrolled": true
   },
   "outputs": [
    {
     "data": {
      "text/plain": [
       "4850.0"
      ]
     },
     "execution_count": 635,
     "metadata": {},
     "output_type": "execute_result"
    }
   ],
   "source": [
    "#what is the highest value\n",
    "data_2019_clean.WorkWeekHrs.max()"
   ]
  },
  {
   "cell_type": "markdown",
   "id": "c7a2621f",
   "metadata": {},
   "source": [
    "That seems unrealistic, letc restrict the working hours to a realistic maximal 120 hours per week. Which would meen 17 hours every day of the week.\n"
   ]
  },
  {
   "cell_type": "code",
   "execution_count": 636,
   "id": "377092e9",
   "metadata": {},
   "outputs": [],
   "source": [
    "data_2020_clean = data_2020_clean[(data_2020_clean.WorkWeekHrs <= 120)]\n",
    "data_2019_clean = data_2019_clean[(data_2019_clean.WorkWeekHrs <= 120)]"
   ]
  },
  {
   "cell_type": "code",
   "execution_count": 637,
   "id": "72886ba7",
   "metadata": {},
   "outputs": [
    {
     "data": {
      "image/png": "[encoded data removed]",
      "text/plain": [
       "<Figure size 720x432 with 1 Axes>"
      ]
     },
     "metadata": {
      "needs_background": "light"
     },
     "output_type": "display_data"
    }
   ],
   "source": [
    "# plot the distribution of Working hours\n",
    "plt.figure(figsize=(10,6))\n",
    "bin_edges = np.arange (0, data_2019_clean['WorkWeekHrs'].max()+1,1)\n",
    "plt.hist(data = data_2019_clean, x = 'WorkWeekHrs', bins = bin_edges, color = 'blue')\n",
    "plt.xlim(0,120)\n",
    "plt.yscale('log')\n",
    "plt.xlabel('WorkWeekHrs')\n",
    "plt.ylabel('Frequency');"
   ]
  },
  {
   "cell_type": "code",
   "execution_count": 638,
   "id": "1cd3e878",
   "metadata": {
    "scrolled": false
   },
   "outputs": [
    {
     "data": {
      "image/png": "[encoded data removed]",
      "text/plain": [
       "<Figure size 720x432 with 1 Axes>"
      ]
     },
     "metadata": {
      "needs_background": "light"
     },
     "output_type": "display_data"
    }
   ],
   "source": [
    "# plot the distribution of Working hours\n",
    "plt.figure(figsize=(10,6))\n",
    "bin_edges = np.arange (0, data_2020_clean['WorkWeekHrs'].max()+1, 1)\n",
    "plt.hist(data = data_2020_clean, x = 'WorkWeekHrs', bins = bin_edges, color = 'blue')\n",
    "plt.xlim(0,120)\n",
    "plt.yscale('log')\n",
    "plt.xlabel('WorkWeekHrs')\n",
    "plt.ylabel('Frequency');"
   ]
  },
  {
   "cell_type": "code",
   "execution_count": 639,
   "id": "9a686c06",
   "metadata": {},
   "outputs": [
    {
     "data": {
      "text/html": [
       "<div>\n",
       "<style scoped>\n",
       "    .dataframe tbody tr th:only-of-type {\n",
       "        vertical-align: middle;\n",
       "    }\n",
       "\n",
       "    .dataframe tbody tr th {\n",
       "        vertical-align: top;\n",
       "    }\n",
       "\n",
       "    .dataframe thead th {\n",
       "        text-align: right;\n",
       "    }\n",
       "</style>\n",
       "<table border=\"1\" class=\"dataframe\">\n",
       "  <thead>\n",
       "    <tr style=\"text-align: right;\">\n",
       "      <th></th>\n",
       "      <th>Respondent</th>\n",
       "      <th>CompTotal</th>\n",
       "      <th>ConvertedComp</th>\n",
       "      <th>WorkWeekHrs</th>\n",
       "      <th>CodeRevHrs</th>\n",
       "      <th>Age</th>\n",
       "    </tr>\n",
       "    <tr>\n",
       "      <th>Employment</th>\n",
       "      <th></th>\n",
       "      <th></th>\n",
       "      <th></th>\n",
       "      <th></th>\n",
       "      <th></th>\n",
       "      <th></th>\n",
       "    </tr>\n",
       "  </thead>\n",
       "  <tbody>\n",
       "    <tr>\n",
       "      <th>Employed full-time</th>\n",
       "      <td>44487.214639</td>\n",
       "      <td>4.132249e+11</td>\n",
       "      <td>133360.773013</td>\n",
       "      <td>40.930436</td>\n",
       "      <td>4.915262</td>\n",
       "      <td>31.391920</td>\n",
       "    </tr>\n",
       "    <tr>\n",
       "      <th>Employed part-time</th>\n",
       "      <td>44686.884339</td>\n",
       "      <td>7.899481e+05</td>\n",
       "      <td>42990.055528</td>\n",
       "      <td>27.279844</td>\n",
       "      <td>4.219499</td>\n",
       "      <td>26.584227</td>\n",
       "    </tr>\n",
       "    <tr>\n",
       "      <th>Independent contractor, freelancer, or self-employed</th>\n",
       "      <td>44302.998042</td>\n",
       "      <td>2.246183e+12</td>\n",
       "      <td>105448.736961</td>\n",
       "      <td>39.738604</td>\n",
       "      <td>5.612204</td>\n",
       "      <td>34.999828</td>\n",
       "    </tr>\n",
       "  </tbody>\n",
       "</table>\n",
       "</div>"
      ],
      "text/plain": [
       "                                                      Respondent  \\\n",
       "Employment                                                         \n",
       "Employed full-time                                  44487.214639   \n",
       "Employed part-time                                  44686.884339   \n",
       "Independent contractor, freelancer, or self-emp...  44302.998042   \n",
       "\n",
       "                                                       CompTotal  \\\n",
       "Employment                                                         \n",
       "Employed full-time                                  4.132249e+11   \n",
       "Employed part-time                                  7.899481e+05   \n",
       "Independent contractor, freelancer, or self-emp...  2.246183e+12   \n",
       "\n",
       "                                                    ConvertedComp  \\\n",
       "Employment                                                          \n",
       "Employed full-time                                  133360.773013   \n",
       "Employed part-time                                   42990.055528   \n",
       "Independent contractor, freelancer, or self-emp...  105448.736961   \n",
       "\n",
       "                                                    WorkWeekHrs  CodeRevHrs  \\\n",
       "Employment                                                                    \n",
       "Employed full-time                                    40.930436    4.915262   \n",
       "Employed part-time                                    27.279844    4.219499   \n",
       "Independent contractor, freelancer, or self-emp...    39.738604    5.612204   \n",
       "\n",
       "                                                          Age  \n",
       "Employment                                                     \n",
       "Employed full-time                                  31.391920  \n",
       "Employed part-time                                  26.584227  \n",
       "Independent contractor, freelancer, or self-emp...  34.999828  "
      ]
     },
     "execution_count": 639,
     "metadata": {},
     "output_type": "execute_result"
    }
   ],
   "source": [
    "data_2019_clean.groupby(['Employment']).mean()"
   ]
  },
  {
   "cell_type": "code",
   "execution_count": 640,
   "id": "66d35f48",
   "metadata": {},
   "outputs": [
    {
     "data": {
      "text/html": [
       "<div>\n",
       "<style scoped>\n",
       "    .dataframe tbody tr th:only-of-type {\n",
       "        vertical-align: middle;\n",
       "    }\n",
       "\n",
       "    .dataframe tbody tr th {\n",
       "        vertical-align: top;\n",
       "    }\n",
       "\n",
       "    .dataframe thead th {\n",
       "        text-align: right;\n",
       "    }\n",
       "</style>\n",
       "<table border=\"1\" class=\"dataframe\">\n",
       "  <thead>\n",
       "    <tr style=\"text-align: right;\">\n",
       "      <th></th>\n",
       "      <th>Respondent</th>\n",
       "      <th>Age</th>\n",
       "      <th>CompTotal</th>\n",
       "      <th>ConvertedComp</th>\n",
       "      <th>WorkWeekHrs</th>\n",
       "    </tr>\n",
       "    <tr>\n",
       "      <th>Employment</th>\n",
       "      <th></th>\n",
       "      <th></th>\n",
       "      <th></th>\n",
       "      <th></th>\n",
       "      <th></th>\n",
       "    </tr>\n",
       "  </thead>\n",
       "  <tbody>\n",
       "    <tr>\n",
       "      <th>Employed full-time</th>\n",
       "      <td>29408.812404</td>\n",
       "      <td>31.878082</td>\n",
       "      <td>3.751726e+242</td>\n",
       "      <td>107184.840941</td>\n",
       "      <td>40.401254</td>\n",
       "    </tr>\n",
       "    <tr>\n",
       "      <th>Employed part-time</th>\n",
       "      <td>31865.140769</td>\n",
       "      <td>28.015302</td>\n",
       "      <td>1.606849e+06</td>\n",
       "      <td>41127.837598</td>\n",
       "      <td>28.755923</td>\n",
       "    </tr>\n",
       "    <tr>\n",
       "      <th>Independent contractor, freelancer, or self-employed</th>\n",
       "      <td>29544.958703</td>\n",
       "      <td>36.107623</td>\n",
       "      <td>3.443683e+09</td>\n",
       "      <td>89070.825501</td>\n",
       "      <td>39.973271</td>\n",
       "    </tr>\n",
       "  </tbody>\n",
       "</table>\n",
       "</div>"
      ],
      "text/plain": [
       "                                                      Respondent        Age  \\\n",
       "Employment                                                                    \n",
       "Employed full-time                                  29408.812404  31.878082   \n",
       "Employed part-time                                  31865.140769  28.015302   \n",
       "Independent contractor, freelancer, or self-emp...  29544.958703  36.107623   \n",
       "\n",
       "                                                        CompTotal  \\\n",
       "Employment                                                          \n",
       "Employed full-time                                  3.751726e+242   \n",
       "Employed part-time                                   1.606849e+06   \n",
       "Independent contractor, freelancer, or self-emp...   3.443683e+09   \n",
       "\n",
       "                                                    ConvertedComp  WorkWeekHrs  \n",
       "Employment                                                                      \n",
       "Employed full-time                                  107184.840941    40.401254  \n",
       "Employed part-time                                   41127.837598    28.755923  \n",
       "Independent contractor, freelancer, or self-emp...   89070.825501    39.973271  "
      ]
     },
     "execution_count": 640,
     "metadata": {},
     "output_type": "execute_result"
    }
   ],
   "source": [
    "data_2020_clean.groupby(['Employment']).mean()"
   ]
  },
  {
   "cell_type": "code",
   "execution_count": 641,
   "id": "a87fbce9",
   "metadata": {
    "scrolled": true
   },
   "outputs": [
    {
     "data": {
      "text/plain": [
       "array([40., 80., 55., ..., 39., 40., 48.])"
      ]
     },
     "execution_count": 641,
     "metadata": {},
     "output_type": "execute_result"
    }
   ],
   "source": [
    "data_2019_clean.WorkWeekHrs.values"
   ]
  },
  {
   "cell_type": "code",
   "execution_count": 642,
   "id": "4ffc8106",
   "metadata": {},
   "outputs": [
    {
     "data": {
      "text/plain": [
       "KstestResult(statistic=0.015146230200515448, pvalue=2.0743866902124522e-05)"
      ]
     },
     "execution_count": 642,
     "metadata": {},
     "output_type": "execute_result"
    }
   ],
   "source": [
    "# Compare the two working hours distributions of 2019 and 2020\n",
    "\"\"\" Performs the two-sample Kolmogorov-Smirnov test for goodness of fit.\n",
    "This test compares the underlying continuous distributions F(x) and G(x) of two independent samples. See Notes for a description of the available null and alternative hypotheses.\n",
    "The Kolmogorov–Smirnov test may also be used to test whether two underlying one-dimensional probability distributions differ. \"\"\"\n",
    "ks_2samp(data_2019_clean.WorkWeekHrs.values, data_2020_clean.WorkWeekHrs.values)"
   ]
  },
  {
   "cell_type": "markdown",
   "id": "d8ebb64f",
   "metadata": {},
   "source": [
    "Under the null hypothesis the two distributions are identical. If the K-S statistic is small or the p-value is high (greater than the significance level, say 5%), then we cannot reject the hypothesis that the distributions of the two samples are the same. Conversely, we can reject the null hypothesis if the p-value is low. The p-value is very low, that means the distributons are no from the same sample meaning the differ alot.\n",
    "\n",
    "Maybe the influence of the part time workers affect the data distribution."
   ]
  },
  {
   "cell_type": "code",
   "execution_count": 643,
   "id": "1aa0f94d",
   "metadata": {
    "scrolled": true
   },
   "outputs": [
    {
     "data": {
      "image/png": "[encoded data removed]",
      "text/plain": [
       "<Figure size 432x288 with 1 Axes>"
      ]
     },
     "metadata": {
      "needs_background": "light"
     },
     "output_type": "display_data"
    }
   ],
   "source": [
    "sns.countplot(data = data_2019_clean, y = 'Employment', color=sns.color_palette()[0]);"
   ]
  },
  {
   "cell_type": "code",
   "execution_count": 644,
   "id": "f53110c0",
   "metadata": {},
   "outputs": [
    {
     "data": {
      "image/png": "[encoded data removed]",
      "text/plain": [
       "<Figure size 432x288 with 1 Axes>"
      ]
     },
     "metadata": {
      "needs_background": "light"
     },
     "output_type": "display_data"
    }
   ],
   "source": [
    "sns.countplot(data = data_2020_clean, y = 'Employment', color=sns.color_palette()[0]);"
   ]
  },
  {
   "cell_type": "markdown",
   "id": "415c626f",
   "metadata": {},
   "source": [
    "There are small differences between 2020 and 2019 concerning the status of employment. Lets try to take this into account. Drop the part time employment to get a better comparison with the fully emplyed"
   ]
  },
  {
   "cell_type": "code",
   "execution_count": 645,
   "id": "7d456ff2",
   "metadata": {},
   "outputs": [
    {
     "data": {
      "text/plain": [
       "KstestResult(statistic=0.01920323910327179, pvalue=3.637725309749739e-08)"
      ]
     },
     "execution_count": 645,
     "metadata": {},
     "output_type": "execute_result"
    }
   ],
   "source": [
    "data_2020_clean = data_2020_clean[(data_2020_clean.Employment!='Employed part-time')]\n",
    "data_2019_clean = data_2019_clean[(data_2019_clean.Employment!='Employed part-time')]\n",
    "ks_2samp(data_2019_clean.WorkWeekHrs.values, data_2020_clean.WorkWeekHrs.values)\n",
    "#Results with part time work\n",
    "#KstestResult(statistic=0.015716507779333838, pvalue=8.055964669564763e-06)"
   ]
  },
  {
   "cell_type": "markdown",
   "id": "5880e23a",
   "metadata": {},
   "source": [
    "Lets have a look at the distribution of the working hours regarding the art of emplyoment."
   ]
  },
  {
   "cell_type": "code",
   "execution_count": 646,
   "id": "21cd766a",
   "metadata": {},
   "outputs": [],
   "source": [
    "data_2020_clean = data_2020_clean.replace({'Employment': {'Employed full-time': 'Employed full-time 2020',\n",
    "                                            'Independent contractor, freelancer, or self-employed': 'Independent 2020'}})"
   ]
  },
  {
   "cell_type": "code",
   "execution_count": 647,
   "id": "6899125b",
   "metadata": {},
   "outputs": [],
   "source": [
    "data_2019_clean = data_2019_clean.replace({'Employment': {'Employed full-time': 'Employed full-time 2019',\n",
    "                                            'Independent contractor, freelancer, or self-employed': 'Independent 2019'}})"
   ]
  },
  {
   "cell_type": "code",
   "execution_count": 648,
   "id": "59cf6b10",
   "metadata": {},
   "outputs": [
    {
     "data": {
      "text/html": [
       "<div>\n",
       "<style scoped>\n",
       "    .dataframe tbody tr th:only-of-type {\n",
       "        vertical-align: middle;\n",
       "    }\n",
       "\n",
       "    .dataframe tbody tr th {\n",
       "        vertical-align: top;\n",
       "    }\n",
       "\n",
       "    .dataframe thead th {\n",
       "        text-align: right;\n",
       "    }\n",
       "</style>\n",
       "<table border=\"1\" class=\"dataframe\">\n",
       "  <thead>\n",
       "    <tr style=\"text-align: right;\">\n",
       "      <th></th>\n",
       "      <th>count</th>\n",
       "      <th>mean</th>\n",
       "      <th>std</th>\n",
       "      <th>min</th>\n",
       "      <th>25%</th>\n",
       "      <th>50%</th>\n",
       "      <th>75%</th>\n",
       "      <th>max</th>\n",
       "    </tr>\n",
       "    <tr>\n",
       "      <th>Employment</th>\n",
       "      <th></th>\n",
       "      <th></th>\n",
       "      <th></th>\n",
       "      <th></th>\n",
       "      <th></th>\n",
       "      <th></th>\n",
       "      <th></th>\n",
       "      <th></th>\n",
       "    </tr>\n",
       "  </thead>\n",
       "  <tbody>\n",
       "    <tr>\n",
       "      <th>Employed full-time 2019</th>\n",
       "      <td>55838.0</td>\n",
       "      <td>40.930436</td>\n",
       "      <td>8.593695</td>\n",
       "      <td>1.0</td>\n",
       "      <td>40.0</td>\n",
       "      <td>40.0</td>\n",
       "      <td>44.0</td>\n",
       "      <td>120.0</td>\n",
       "    </tr>\n",
       "    <tr>\n",
       "      <th>Employed full-time 2020</th>\n",
       "      <td>35667.0</td>\n",
       "      <td>40.401254</td>\n",
       "      <td>9.330885</td>\n",
       "      <td>1.0</td>\n",
       "      <td>40.0</td>\n",
       "      <td>40.0</td>\n",
       "      <td>43.0</td>\n",
       "      <td>120.0</td>\n",
       "    </tr>\n",
       "    <tr>\n",
       "      <th>Independent 2019</th>\n",
       "      <td>5618.0</td>\n",
       "      <td>39.738604</td>\n",
       "      <td>15.280310</td>\n",
       "      <td>1.0</td>\n",
       "      <td>32.0</td>\n",
       "      <td>40.0</td>\n",
       "      <td>45.0</td>\n",
       "      <td>120.0</td>\n",
       "    </tr>\n",
       "    <tr>\n",
       "      <th>Independent 2020</th>\n",
       "      <td>3947.0</td>\n",
       "      <td>39.973271</td>\n",
       "      <td>15.634429</td>\n",
       "      <td>1.0</td>\n",
       "      <td>32.0</td>\n",
       "      <td>40.0</td>\n",
       "      <td>48.0</td>\n",
       "      <td>120.0</td>\n",
       "    </tr>\n",
       "  </tbody>\n",
       "</table>\n",
       "</div>"
      ],
      "text/plain": [
       "                           count       mean        std  min   25%   50%   75%  \\\n",
       "Employment                                                                      \n",
       "Employed full-time 2019  55838.0  40.930436   8.593695  1.0  40.0  40.0  44.0   \n",
       "Employed full-time 2020  35667.0  40.401254   9.330885  1.0  40.0  40.0  43.0   \n",
       "Independent 2019          5618.0  39.738604  15.280310  1.0  32.0  40.0  45.0   \n",
       "Independent 2020          3947.0  39.973271  15.634429  1.0  32.0  40.0  48.0   \n",
       "\n",
       "                           max  \n",
       "Employment                      \n",
       "Employed full-time 2019  120.0  \n",
       "Employed full-time 2020  120.0  \n",
       "Independent 2019         120.0  \n",
       "Independent 2020         120.0  "
      ]
     },
     "execution_count": 648,
     "metadata": {},
     "output_type": "execute_result"
    }
   ],
   "source": [
    "boxplot = pd.concat([data_2019_clean, data_2020_clean])\n",
    "#boxplot2 = pd.melt(box_plot, id_vars=['Employment'], var_name=)\n",
    "boxplot.groupby('Employment').WorkWeekHrs.describe()"
   ]
  },
  {
   "cell_type": "code",
   "execution_count": 649,
   "id": "aa554f02",
   "metadata": {},
   "outputs": [
    {
     "data": {
      "image/png": "[encoded data removed]",
      "text/plain": [
       "<Figure size 1080x216 with 1 Axes>"
      ]
     },
     "metadata": {
      "needs_background": "light"
     },
     "output_type": "display_data"
    }
   ],
   "source": [
    "plt.figure(figsize=(15,3))\n",
    "#sns.set_style(\"whitegrid\")\n",
    "plt.xlim(0,130)\n",
    "base_color = sns.color_palette()[0]\n",
    "base_color2 = sns.color_palette()[0]\n",
    "ax = sns.boxplot(data = boxplot, x = 'WorkWeekHrs', y = 'Employment', order= ['Independent 2020', 'Independent 2019',\n",
    "                                                                        'Employed full-time 2020', 'Employed full-time 2019'], color = base_color)\n",
    "mybox1 = ax.artists[0]\n",
    "mybox1.set_facecolor('orange')\n",
    "\n",
    "mybox2 = ax.artists[2]\n",
    "mybox2.set_facecolor('orange')\n",
    "\n",
    "plt.title('Hours of Work by Emplyoment Status', fontsize = 14)\n",
    "plt.xlabel('Work Hours [h]', fontsize = 10)\n",
    "plt.ylabel('Employment', fontsize = 10);"
   ]
  },
  {
   "cell_type": "markdown",
   "id": "ee8872c6",
   "metadata": {},
   "source": [
    "# 2. How did job Satisfaction change during the pandemic\n",
    "\n",
    "To answer the question we look at how the distribution of job satisfaction.\n",
    "\n",
    "### Prepare the data \n"
   ]
  },
  {
   "cell_type": "code",
   "execution_count": 650,
   "id": "263bc485",
   "metadata": {},
   "outputs": [
    {
     "data": {
      "image/png": "[encoded data removed]",
      "text/plain": [
       "<Figure size 432x288 with 1 Axes>"
      ]
     },
     "metadata": {
      "needs_background": "light"
     },
     "output_type": "display_data"
    }
   ],
   "source": [
    "#How do the two years differ in employment status\n",
    "sns.countplot(data = data_2019, y = 'Employment', color=sns.color_palette()[0]);\n"
   ]
  },
  {
   "cell_type": "code",
   "execution_count": 651,
   "id": "189e9fc8",
   "metadata": {},
   "outputs": [
    {
     "data": {
      "image/png": "[encoded data removed]",
      "text/plain": [
       "<Figure size 432x288 with 1 Axes>"
      ]
     },
     "metadata": {
      "needs_background": "light"
     },
     "output_type": "display_data"
    }
   ],
   "source": [
    "sns.countplot(data = data_2020, y = 'Employment', color=sns.color_palette()[0]);"
   ]
  },
  {
   "cell_type": "code",
   "execution_count": 652,
   "id": "c2d694de",
   "metadata": {},
   "outputs": [
    {
     "data": {
      "text/html": [
       "<div>\n",
       "<style scoped>\n",
       "    .dataframe tbody tr th:only-of-type {\n",
       "        vertical-align: middle;\n",
       "    }\n",
       "\n",
       "    .dataframe tbody tr th {\n",
       "        vertical-align: top;\n",
       "    }\n",
       "\n",
       "    .dataframe thead th {\n",
       "        text-align: right;\n",
       "    }\n",
       "</style>\n",
       "<table border=\"1\" class=\"dataframe\">\n",
       "  <thead>\n",
       "    <tr style=\"text-align: right;\">\n",
       "      <th></th>\n",
       "      <th>2020</th>\n",
       "      <th>2019</th>\n",
       "    </tr>\n",
       "  </thead>\n",
       "  <tbody>\n",
       "    <tr>\n",
       "      <th>Employed full-time</th>\n",
       "      <td>0.702285</td>\n",
       "      <td>0.724998</td>\n",
       "    </tr>\n",
       "    <tr>\n",
       "      <th>Student</th>\n",
       "      <td>0.120802</td>\n",
       "      <td>NaN</td>\n",
       "    </tr>\n",
       "    <tr>\n",
       "      <th>Independent contractor, freelancer, or self-employed</th>\n",
       "      <td>0.087991</td>\n",
       "      <td>0.095755</td>\n",
       "    </tr>\n",
       "    <tr>\n",
       "      <th>Not employed, but looking for work</th>\n",
       "      <td>0.036348</td>\n",
       "      <td>0.063004</td>\n",
       "    </tr>\n",
       "    <tr>\n",
       "      <th>Employed part-time</th>\n",
       "      <td>0.034393</td>\n",
       "      <td>0.050280</td>\n",
       "    </tr>\n",
       "    <tr>\n",
       "      <th>Not employed, and not looking for work</th>\n",
       "      <td>0.004995</td>\n",
       "      <td>0.042787</td>\n",
       "    </tr>\n",
       "    <tr>\n",
       "      <th>Retired</th>\n",
       "      <td>0.003770</td>\n",
       "      <td>0.004028</td>\n",
       "    </tr>\n",
       "  </tbody>\n",
       "</table>\n",
       "</div>"
      ],
      "text/plain": [
       "                                                        2020      2019\n",
       "Employed full-time                                  0.702285  0.724998\n",
       "Student                                             0.120802       NaN\n",
       "Independent contractor, freelancer, or self-emp...  0.087991  0.095755\n",
       "Not employed, but looking for work                  0.036348  0.063004\n",
       "Employed part-time                                  0.034393  0.050280\n",
       "Not employed, and not looking for work              0.004995  0.042787\n",
       "Retired                                             0.003770  0.004028"
      ]
     },
     "execution_count": 652,
     "metadata": {},
     "output_type": "execute_result"
    }
   ],
   "source": [
    "#lets look at the percentages of emplyoment, to make sure, that we are dealing with some sort of similar data\n",
    "employment = pd.DataFrame()\n",
    "\n",
    "employment['2020'] = data_2020.Employment.value_counts()/data_2020.shape[0]\n",
    "employment['2019'] = data_2019.Employment.value_counts()/data_2019.shape[0]\n",
    "employment\n"
   ]
  },
  {
   "cell_type": "code",
   "execution_count": 653,
   "id": "4df73027",
   "metadata": {},
   "outputs": [
    {
     "data": {
      "image/png": "[encoded data removed]",
      "text/plain": [
       "<Figure size 432x288 with 1 Axes>"
      ]
     },
     "metadata": {
      "needs_background": "light"
     },
     "output_type": "display_data"
    }
   ],
   "source": [
    "employment.plot.bar(rot=90);"
   ]
  },
  {
   "cell_type": "markdown",
   "id": "f3220d70",
   "metadata": {},
   "source": [
    "It seems that the percentage of the different employment status is quit similar, with minor differences. That means the data is not scewed to on or the other employment status in the different years. For the following job satisfaction just look at the people that are employed."
   ]
  },
  {
   "cell_type": "code",
   "execution_count": 654,
   "id": "b93b921c",
   "metadata": {},
   "outputs": [],
   "source": [
    "#Drop the rows that are unemployed\n",
    "satis_2019 = data_2019[(data_2019.Employment!='Retired')& (data_2019.Employment!='Not employed, but looking for work') & (data_2019.Employment!='Not employed, and not looking for work')]\n",
    "satis_2020 = data_2020[(data_2020.Employment!='Retired')& (data_2020.Employment!='Not employed, but looking for work') & (data_2020.Employment!='Not employed, and not looking for work') & (data_2020.Employment!='Student')]\n",
    "\n",
    "satis_2019 = satis_2019.dropna(subset=['JobSat'])\n",
    "satis_2020 = satis_2020.dropna(subset=['JobSat'])\n"
   ]
  },
  {
   "cell_type": "code",
   "execution_count": 655,
   "id": "deb76d0d",
   "metadata": {
    "scrolled": true
   },
   "outputs": [
    {
     "data": {
      "text/html": [
       "<div>\n",
       "<style scoped>\n",
       "    .dataframe tbody tr th:only-of-type {\n",
       "        vertical-align: middle;\n",
       "    }\n",
       "\n",
       "    .dataframe tbody tr th {\n",
       "        vertical-align: top;\n",
       "    }\n",
       "\n",
       "    .dataframe thead th {\n",
       "        text-align: right;\n",
       "    }\n",
       "</style>\n",
       "<table border=\"1\" class=\"dataframe\">\n",
       "  <thead>\n",
       "    <tr style=\"text-align: right;\">\n",
       "      <th></th>\n",
       "      <th>2020</th>\n",
       "      <th>2019</th>\n",
       "    </tr>\n",
       "  </thead>\n",
       "  <tbody>\n",
       "    <tr>\n",
       "      <th>Very satisfied</th>\n",
       "      <td>0.323295</td>\n",
       "      <td>0.316279</td>\n",
       "    </tr>\n",
       "    <tr>\n",
       "      <th>Slightly satisfied</th>\n",
       "      <td>0.308227</td>\n",
       "      <td>0.341001</td>\n",
       "    </tr>\n",
       "    <tr>\n",
       "      <th>Slightly dissatisfied</th>\n",
       "      <td>0.157632</td>\n",
       "      <td>0.151462</td>\n",
       "    </tr>\n",
       "    <tr>\n",
       "      <th>Neither satisfied nor dissatisfied</th>\n",
       "      <td>0.127959</td>\n",
       "      <td>0.122838</td>\n",
       "    </tr>\n",
       "    <tr>\n",
       "      <th>Very dissatisfied</th>\n",
       "      <td>0.082887</td>\n",
       "      <td>0.068420</td>\n",
       "    </tr>\n",
       "  </tbody>\n",
       "</table>\n",
       "</div>"
      ],
      "text/plain": [
       "                                        2020      2019\n",
       "Very satisfied                      0.323295  0.316279\n",
       "Slightly satisfied                  0.308227  0.341001\n",
       "Slightly dissatisfied               0.157632  0.151462\n",
       "Neither satisfied nor dissatisfied  0.127959  0.122838\n",
       "Very dissatisfied                   0.082887  0.068420"
      ]
     },
     "execution_count": 655,
     "metadata": {},
     "output_type": "execute_result"
    }
   ],
   "source": [
    "satisfaction = pd.DataFrame()\n",
    "satisfaction['2020'] = satis_2020.JobSat.value_counts()/satis_2020.shape[0]\n",
    "satisfaction['2019'] = satis_2019.JobSat.value_counts()/satis_2019.shape[0]\n",
    "satisfaction"
   ]
  },
  {
   "cell_type": "code",
   "execution_count": 656,
   "id": "746098b6",
   "metadata": {},
   "outputs": [
    {
     "data": {
      "text/plain": [
       "<AxesSubplot:>"
      ]
     },
     "execution_count": 656,
     "metadata": {},
     "output_type": "execute_result"
    },
    {
     "data": {
      "image/png": "[encoded data removed]",
      "text/plain": [
       "<Figure size 432x288 with 1 Axes>"
      ]
     },
     "metadata": {
      "needs_background": "light"
     },
     "output_type": "display_data"
    }
   ],
   "source": [
    "satisfaction.plot.barh()"
   ]
  },
  {
   "cell_type": "code",
   "execution_count": 657,
   "id": "81f5406c",
   "metadata": {
    "scrolled": true
   },
   "outputs": [
    {
     "data": {
      "text/html": [
       "<div>\n",
       "<style scoped>\n",
       "    .dataframe tbody tr th:only-of-type {\n",
       "        vertical-align: middle;\n",
       "    }\n",
       "\n",
       "    .dataframe tbody tr th {\n",
       "        vertical-align: top;\n",
       "    }\n",
       "\n",
       "    .dataframe thead th {\n",
       "        text-align: right;\n",
       "    }\n",
       "</style>\n",
       "<table border=\"1\" class=\"dataframe\">\n",
       "  <thead>\n",
       "    <tr style=\"text-align: right;\">\n",
       "      <th></th>\n",
       "      <th>2020</th>\n",
       "      <th>2019</th>\n",
       "    </tr>\n",
       "  </thead>\n",
       "  <tbody>\n",
       "    <tr>\n",
       "      <th>Very satisfied</th>\n",
       "      <td>0.226664</td>\n",
       "      <td>0.252602</td>\n",
       "    </tr>\n",
       "    <tr>\n",
       "      <th>Slightly satisfied</th>\n",
       "      <td>0.216100</td>\n",
       "      <td>0.272347</td>\n",
       "    </tr>\n",
       "    <tr>\n",
       "      <th>Slightly dissatisfied</th>\n",
       "      <td>0.110516</td>\n",
       "      <td>0.120968</td>\n",
       "    </tr>\n",
       "    <tr>\n",
       "      <th>Neither satisfied nor dissatisfied</th>\n",
       "      <td>0.089713</td>\n",
       "      <td>0.098106</td>\n",
       "    </tr>\n",
       "    <tr>\n",
       "      <th>Very dissatisfied</th>\n",
       "      <td>0.058113</td>\n",
       "      <td>0.054645</td>\n",
       "    </tr>\n",
       "  </tbody>\n",
       "</table>\n",
       "</div>"
      ],
      "text/plain": [
       "                                        2020      2019\n",
       "Very satisfied                      0.226664  0.252602\n",
       "Slightly satisfied                  0.216100  0.272347\n",
       "Slightly dissatisfied               0.110516  0.120968\n",
       "Neither satisfied nor dissatisfied  0.089713  0.098106\n",
       "Very dissatisfied                   0.058113  0.054645"
      ]
     },
     "execution_count": 657,
     "metadata": {},
     "output_type": "execute_result"
    }
   ],
   "source": [
    "#Lets look at the percantage of jobsatisfaction per catergory\n",
    "satisfaction = pd.DataFrame()\n",
    "satisfaction['2020'] = data_2020.JobSat.value_counts()/data_2020.JobSat.shape[0]\n",
    "satisfaction['2019'] = data_2019.JobSat.value_counts()/data_2019.JobSat.shape[0]\n",
    "satisfaction"
   ]
  },
  {
   "cell_type": "code",
   "execution_count": 658,
   "id": "9f1d4d72",
   "metadata": {},
   "outputs": [
    {
     "data": {
      "text/plain": [
       "<AxesSubplot:>"
      ]
     },
     "execution_count": 658,
     "metadata": {},
     "output_type": "execute_result"
    },
    {
     "data": {
      "text/plain": [
       "<Figure size 1080x1440 with 0 Axes>"
      ]
     },
     "metadata": {},
     "output_type": "display_data"
    },
    {
     "data": {
      "image/png": "[encoded data removed]",
      "text/plain": [
       "<Figure size 432x288 with 1 Axes>"
      ]
     },
     "metadata": {
      "needs_background": "light"
     },
     "output_type": "display_data"
    }
   ],
   "source": [
    "plt.figure(figsize=(15,20))\n",
    "satisfaction.plot.barh()"
   ]
  },
  {
   "cell_type": "markdown",
   "id": "c923db38",
   "metadata": {},
   "source": [
    "# 3. How did job satisfaction change depending on working hours"
   ]
  },
  {
   "cell_type": "code",
   "execution_count": 659,
   "id": "f499c857",
   "metadata": {},
   "outputs": [
    {
     "data": {
      "text/plain": [
       "Slightly satisfied                    24207\n",
       "Very satisfied                        22452\n",
       "Slightly dissatisfied                 10752\n",
       "Neither satisfied nor dissatisfied     8720\n",
       "Very dissatisfied                      4857\n",
       "Name: JobSat, dtype: int64"
      ]
     },
     "execution_count": 659,
     "metadata": {},
     "output_type": "execute_result"
    }
   ],
   "source": [
    "satis_2019.JobSat.value_counts()"
   ]
  },
  {
   "cell_type": "markdown",
   "id": "c385252c",
   "metadata": {},
   "source": [
    "#converting job satisfaction into numerical\n",
    "satis_2019 = satis_2019.replace({'JobSat': {'Slightly satisfied': 1,\n",
    "                                            'Very satisfied': 2,\n",
    "                                            'Slightly dissatisfied': -1,\n",
    "                                            'Neither satisfied nor dissatisfied': 0,\n",
    "                                            'Very dissatisfied': -2,}})"
   ]
  },
  {
   "cell_type": "code",
   "execution_count": 660,
   "id": "666888ab",
   "metadata": {},
   "outputs": [
    {
     "data": {
      "text/plain": [
       "Very satisfied                        14611\n",
       "Slightly satisfied                    13930\n",
       "Slightly dissatisfied                  7124\n",
       "Neither satisfied nor dissatisfied     5783\n",
       "Very dissatisfied                      3746\n",
       "Name: JobSat, dtype: int64"
      ]
     },
     "execution_count": 660,
     "metadata": {},
     "output_type": "execute_result"
    }
   ],
   "source": [
    "satis_2020.JobSat.value_counts()"
   ]
  },
  {
   "cell_type": "markdown",
   "id": "4c781909",
   "metadata": {},
   "source": [
    "satis_2020 = satis_2020.replace({'JobSat': {'Slightly satisfied': 1,\n",
    "                                            'Very satisfied': 2,\n",
    "                                            'Slightly dissatisfied': -1,\n",
    "                                            'Neither satisfied nor dissatisfied': 0,\n",
    "                                            'Very dissatisfied': -2,}})"
   ]
  },
  {
   "cell_type": "code",
   "execution_count": 661,
   "id": "efd5ea5f",
   "metadata": {},
   "outputs": [
    {
     "name": "stdout",
     "output_type": "stream",
     "text": [
      "count                  70988\n",
      "unique                     5\n",
      "top       Slightly satisfied\n",
      "freq                   24207\n",
      "Name: JobSat, dtype: object\n",
      "count              45194\n",
      "unique                 5\n",
      "top       Very satisfied\n",
      "freq               14611\n",
      "Name: JobSat, dtype: object\n"
     ]
    }
   ],
   "source": [
    "print(satis_2019.JobSat.describe())\n",
    "print(satis_2020.JobSat.describe())"
   ]
  },
  {
   "cell_type": "code",
   "execution_count": 662,
   "id": "6b7783e7",
   "metadata": {},
   "outputs": [
    {
     "data": {
      "text/plain": [
       "count    64406.000000\n",
       "mean        42.124757\n",
       "std         37.286842\n",
       "min          1.000000\n",
       "25%         40.000000\n",
       "50%         40.000000\n",
       "75%         44.000000\n",
       "max       4850.000000\n",
       "Name: WorkWeekHrs, dtype: float64"
      ]
     },
     "execution_count": 662,
     "metadata": {},
     "output_type": "execute_result"
    }
   ],
   "source": [
    "satis_2019.WorkWeekHrs.describe()"
   ]
  },
  {
   "cell_type": "code",
   "execution_count": 663,
   "id": "b66db3e0",
   "metadata": {},
   "outputs": [],
   "source": [
    "#prepare the data to compare work hours with job satisfaction\n",
    "satis_2019_time = satis_2019.dropna(subset=['WorkWeekHrs'], axis=0)\n",
    "satis_2020_time = satis_2020.dropna(subset=['WorkWeekHrs'], axis=0)\n",
    "\n",
    "satis_2020_time = satis_2020_time[(satis_2020_time.WorkWeekHrs <= 120)]\n",
    "satis_2019_time = satis_2019_time[(satis_2019_time.WorkWeekHrs <= 120)]"
   ]
  },
  {
   "cell_type": "code",
   "execution_count": 664,
   "id": "35b67cb3",
   "metadata": {},
   "outputs": [
    {
     "data": {
      "text/html": [
       "<div>\n",
       "<style scoped>\n",
       "    .dataframe tbody tr th:only-of-type {\n",
       "        vertical-align: middle;\n",
       "    }\n",
       "\n",
       "    .dataframe tbody tr th {\n",
       "        vertical-align: top;\n",
       "    }\n",
       "\n",
       "    .dataframe thead th {\n",
       "        text-align: right;\n",
       "    }\n",
       "</style>\n",
       "<table border=\"1\" class=\"dataframe\">\n",
       "  <thead>\n",
       "    <tr style=\"text-align: right;\">\n",
       "      <th></th>\n",
       "      <th>Respondent</th>\n",
       "      <th>MainBranch</th>\n",
       "      <th>Hobbyist</th>\n",
       "      <th>Age</th>\n",
       "      <th>Age1stCode</th>\n",
       "      <th>CompFreq</th>\n",
       "      <th>CompTotal</th>\n",
       "      <th>ConvertedComp</th>\n",
       "      <th>Country</th>\n",
       "      <th>CurrencyDesc</th>\n",
       "      <th>...</th>\n",
       "      <th>ScreenName</th>\n",
       "      <th>SOVisit1st</th>\n",
       "      <th>SOVisitTo</th>\n",
       "      <th>SOFindAnswer</th>\n",
       "      <th>SOTimeSaved</th>\n",
       "      <th>SOHowMuchTime</th>\n",
       "      <th>SOJobs</th>\n",
       "      <th>EntTeams</th>\n",
       "      <th>SONewContent</th>\n",
       "      <th>Dependents</th>\n",
       "    </tr>\n",
       "  </thead>\n",
       "  <tbody>\n",
       "    <tr>\n",
       "      <th>0</th>\n",
       "      <td>1</td>\n",
       "      <td>I am a developer by profession</td>\n",
       "      <td>Yes</td>\n",
       "      <td>NaN</td>\n",
       "      <td>13</td>\n",
       "      <td>Monthly</td>\n",
       "      <td>NaN</td>\n",
       "      <td>NaN</td>\n",
       "      <td>Germany</td>\n",
       "      <td>European Euro</td>\n",
       "      <td>...</td>\n",
       "      <td>NaN</td>\n",
       "      <td>NaN</td>\n",
       "      <td>NaN</td>\n",
       "      <td>NaN</td>\n",
       "      <td>NaN</td>\n",
       "      <td>NaN</td>\n",
       "      <td>NaN</td>\n",
       "      <td>NaN</td>\n",
       "      <td>NaN</td>\n",
       "      <td>NaN</td>\n",
       "    </tr>\n",
       "    <tr>\n",
       "      <th>3</th>\n",
       "      <td>4</td>\n",
       "      <td>I am a developer by profession</td>\n",
       "      <td>Yes</td>\n",
       "      <td>25.0</td>\n",
       "      <td>18</td>\n",
       "      <td>NaN</td>\n",
       "      <td>NaN</td>\n",
       "      <td>NaN</td>\n",
       "      <td>Albania</td>\n",
       "      <td>Albanian lek</td>\n",
       "      <td>...</td>\n",
       "      <td>NaN</td>\n",
       "      <td>NaN</td>\n",
       "      <td>NaN</td>\n",
       "      <td>NaN</td>\n",
       "      <td>NaN</td>\n",
       "      <td>NaN</td>\n",
       "      <td>NaN</td>\n",
       "      <td>NaN</td>\n",
       "      <td>NaN</td>\n",
       "      <td>NaN</td>\n",
       "    </tr>\n",
       "    <tr>\n",
       "      <th>7</th>\n",
       "      <td>8</td>\n",
       "      <td>I am a developer by profession</td>\n",
       "      <td>Yes</td>\n",
       "      <td>36.0</td>\n",
       "      <td>12</td>\n",
       "      <td>Yearly</td>\n",
       "      <td>116000.0</td>\n",
       "      <td>116000.0</td>\n",
       "      <td>United States</td>\n",
       "      <td>United States dollar</td>\n",
       "      <td>...</td>\n",
       "      <td>NaN</td>\n",
       "      <td>NaN</td>\n",
       "      <td>NaN</td>\n",
       "      <td>NaN</td>\n",
       "      <td>NaN</td>\n",
       "      <td>NaN</td>\n",
       "      <td>NaN</td>\n",
       "      <td>NaN</td>\n",
       "      <td>NaN</td>\n",
       "      <td>NaN</td>\n",
       "    </tr>\n",
       "    <tr>\n",
       "      <th>8</th>\n",
       "      <td>9</td>\n",
       "      <td>I am a developer by profession</td>\n",
       "      <td>No</td>\n",
       "      <td>30.0</td>\n",
       "      <td>20</td>\n",
       "      <td>NaN</td>\n",
       "      <td>NaN</td>\n",
       "      <td>NaN</td>\n",
       "      <td>Tunisia</td>\n",
       "      <td>United States dollar</td>\n",
       "      <td>...</td>\n",
       "      <td>NaN</td>\n",
       "      <td>NaN</td>\n",
       "      <td>NaN</td>\n",
       "      <td>NaN</td>\n",
       "      <td>NaN</td>\n",
       "      <td>NaN</td>\n",
       "      <td>NaN</td>\n",
       "      <td>NaN</td>\n",
       "      <td>NaN</td>\n",
       "      <td>NaN</td>\n",
       "    </tr>\n",
       "    <tr>\n",
       "      <th>9</th>\n",
       "      <td>10</td>\n",
       "      <td>I am a developer by profession</td>\n",
       "      <td>Yes</td>\n",
       "      <td>22.0</td>\n",
       "      <td>14</td>\n",
       "      <td>Yearly</td>\n",
       "      <td>25000.0</td>\n",
       "      <td>32315.0</td>\n",
       "      <td>United Kingdom</td>\n",
       "      <td>Pound sterling</td>\n",
       "      <td>...</td>\n",
       "      <td>NaN</td>\n",
       "      <td>NaN</td>\n",
       "      <td>NaN</td>\n",
       "      <td>NaN</td>\n",
       "      <td>NaN</td>\n",
       "      <td>NaN</td>\n",
       "      <td>NaN</td>\n",
       "      <td>NaN</td>\n",
       "      <td>NaN</td>\n",
       "      <td>NaN</td>\n",
       "    </tr>\n",
       "  </tbody>\n",
       "</table>\n",
       "<p>5 rows × 104 columns</p>\n",
       "</div>"
      ],
      "text/plain": [
       "   Respondent                      MainBranch Hobbyist   Age Age1stCode  \\\n",
       "0           1  I am a developer by profession      Yes   NaN         13   \n",
       "3           4  I am a developer by profession      Yes  25.0         18   \n",
       "7           8  I am a developer by profession      Yes  36.0         12   \n",
       "8           9  I am a developer by profession       No  30.0         20   \n",
       "9          10  I am a developer by profession      Yes  22.0         14   \n",
       "\n",
       "  CompFreq  CompTotal  ConvertedComp         Country          CurrencyDesc  \\\n",
       "0  Monthly        NaN            NaN         Germany         European Euro   \n",
       "3      NaN        NaN            NaN         Albania          Albanian lek   \n",
       "7   Yearly   116000.0       116000.0   United States  United States dollar   \n",
       "8      NaN        NaN            NaN         Tunisia  United States dollar   \n",
       "9   Yearly    25000.0        32315.0  United Kingdom        Pound sterling   \n",
       "\n",
       "   ... ScreenName SOVisit1st SOVisitTo SOFindAnswer SOTimeSaved SOHowMuchTime  \\\n",
       "0  ...        NaN        NaN       NaN          NaN         NaN           NaN   \n",
       "3  ...        NaN        NaN       NaN          NaN         NaN           NaN   \n",
       "7  ...        NaN        NaN       NaN          NaN         NaN           NaN   \n",
       "8  ...        NaN        NaN       NaN          NaN         NaN           NaN   \n",
       "9  ...        NaN        NaN       NaN          NaN         NaN           NaN   \n",
       "\n",
       "  SOJobs EntTeams SONewContent Dependents  \n",
       "0    NaN      NaN          NaN        NaN  \n",
       "3    NaN      NaN          NaN        NaN  \n",
       "7    NaN      NaN          NaN        NaN  \n",
       "8    NaN      NaN          NaN        NaN  \n",
       "9    NaN      NaN          NaN        NaN  \n",
       "\n",
       "[5 rows x 104 columns]"
      ]
     },
     "execution_count": 664,
     "metadata": {},
     "output_type": "execute_result"
    }
   ],
   "source": [
    "#combine the satisfaction dataset with a new column year to compare within a violin plot\n",
    "satis_2020_time['year'] = \"2020\"\n",
    "satis_2019_time['year'] = \"2019\"\n",
    "violin_plot = pd.concat([satis_2020_time, satis_2019_time])\n",
    "violin_plot.head()"
   ]
  },
  {
   "cell_type": "code",
   "execution_count": 665,
   "id": "b03170e6",
   "metadata": {},
   "outputs": [
    {
     "data": {
      "text/plain": [
       "<seaborn.axisgrid.FacetGrid at 0x19f9b966ca0>"
      ]
     },
     "execution_count": 665,
     "metadata": {},
     "output_type": "execute_result"
    },
    {
     "data": {
      "image/png": "[encoded data removed]",
      "text/plain": [
       "<Figure size 418.5x360 with 1 Axes>"
      ]
     },
     "metadata": {
      "needs_background": "light"
     },
     "output_type": "display_data"
    }
   ],
   "source": [
    "#Data plot with violin plot\n",
    "sns.catplot(x='JobSat', y='WorkWeekHrs', hue='year',  kind=\"violin\", split=True, data=violin_plot,)"
   ]
  },
  {
   "cell_type": "code",
   "execution_count": 666,
   "id": "6d6845fd",
   "metadata": {
    "scrolled": false
   },
   "outputs": [
    {
     "data": {
      "text/plain": [
       "<Figure size 1080x720 with 0 Axes>"
      ]
     },
     "metadata": {},
     "output_type": "display_data"
    },
    {
     "data": {
      "image/png": "[encoded data removed]",
      "text/plain": [
       "<Figure size 418.5x360 with 1 Axes>"
      ]
     },
     "metadata": {
      "needs_background": "light"
     },
     "output_type": "display_data"
    }
   ],
   "source": [
    "# plotting a scatter plot of relationship between job satisfaction and working hours\n",
    "plt.figure(figsize=(15,10))\n",
    "sns.catplot(x='WorkWeekHrs', y='JobSat', hue='year',  kind=\"violin\", split=True, data=violin_plot,)\n",
    "plt.title(\"Week Hours vs Job Satitsfaction 2019 compared 2020\", fontsize=14)\n",
    "plt.xlabel(\"JobSat\")\n",
    "plt.ylabel(\"WorkWeekHrs \");"
   ]
  },
  {
   "cell_type": "markdown",
   "id": "12434062",
   "metadata": {},
   "source": [
    "The Plots dont seem very interesting. I will try another angle."
   ]
  },
  {
   "cell_type": "markdown",
   "id": "b37d9a7c",
   "metadata": {},
   "source": [
    "# 4. How does work satisfatcon correlate to income"
   ]
  },
  {
   "cell_type": "code",
   "execution_count": 737,
   "id": "26428d4d",
   "metadata": {},
   "outputs": [],
   "source": [
    "#Drop the NA values for work hours and compensation\n",
    "comp_2019 = data_2019.copy()\n",
    "comp_2019.dropna(subset=['WorkWeekHrs', 'CompTotal'], inplace=True)\n",
    "comp_2020 = data_2020.copy()\n",
    "comp_2020.dropna(subset=['WorkWeekHrs', 'CompTotal'], inplace=True)"
   ]
  },
  {
   "cell_type": "code",
   "execution_count": 764,
   "id": "b17c3efb",
   "metadata": {},
   "outputs": [],
   "source": [
    "#only look at the yearly income data, to have a better comperison for people who \n",
    "#have their job the whole year\n",
    "comp_2019 = comp_2019[comp_2019.CompFreq == 'Yearly']\n",
    "comp_2020 = comp_2020[comp_2020.CompFreq == 'Yearly']"
   ]
  },
  {
   "cell_type": "code",
   "execution_count": 739,
   "id": "5c7a5d60",
   "metadata": {},
   "outputs": [
    {
     "data": {
      "text/plain": [
       "count    30335.000000\n",
       "mean        42.021198\n",
       "std         33.555277\n",
       "min          1.000000\n",
       "25%         40.000000\n",
       "50%         40.000000\n",
       "75%         43.000000\n",
       "max       4850.000000\n",
       "Name: WorkWeekHrs, dtype: float64"
      ]
     },
     "execution_count": 739,
     "metadata": {},
     "output_type": "execute_result"
    }
   ],
   "source": [
    "comp_2019.WorkWeekHrs.describe()"
   ]
  },
  {
   "cell_type": "markdown",
   "id": "4bf8ea88",
   "metadata": {},
   "source": [
    "The Weekly hours seem a bit high, lets limit the outliers"
   ]
  },
  {
   "cell_type": "code",
   "execution_count": 740,
   "id": "a80cc68e",
   "metadata": {},
   "outputs": [],
   "source": [
    "comp_2020 = comp_2020[(comp_2020.WorkWeekHrs <= 120)]\n",
    "comp_2019 = comp_2019[(comp_2019.WorkWeekHrs <= 120)]"
   ]
  },
  {
   "cell_type": "code",
   "execution_count": 741,
   "id": "ef3f00d2",
   "metadata": {},
   "outputs": [
    {
     "data": {
      "text/plain": [
       "count    3.023400e+04\n",
       "mean     9.296084e+05\n",
       "std      2.476615e+07\n",
       "min      0.000000e+00\n",
       "25%      5.500000e+04\n",
       "50%      9.000000e+04\n",
       "75%      1.400000e+05\n",
       "max      3.000000e+09\n",
       "Name: CompTotal, dtype: float64"
      ]
     },
     "execution_count": 741,
     "metadata": {},
     "output_type": "execute_result"
    }
   ],
   "source": [
    "comp_2019.CompTotal.describe()"
   ]
  },
  {
   "cell_type": "markdown",
   "id": "bfc50bb5",
   "metadata": {},
   "source": [
    "A Billio Dollars a year seem a bit high, it somebody propably entered non dollar values. "
   ]
  },
  {
   "cell_type": "code",
   "execution_count": 742,
   "id": "7104a5a5",
   "metadata": {},
   "outputs": [
    {
     "data": {
      "text/plain": [
       "count    3.023300e+04\n",
       "mean     8.757367e+04\n",
       "std      7.559176e+04\n",
       "min      0.000000e+00\n",
       "25%      4.827900e+04\n",
       "50%      7.458300e+04\n",
       "75%      1.100000e+05\n",
       "max      2.000000e+06\n",
       "Name: ConvertedComp, dtype: float64"
      ]
     },
     "execution_count": 742,
     "metadata": {},
     "output_type": "execute_result"
    }
   ],
   "source": [
    "comp_2019.ConvertedComp.describe()"
   ]
  },
  {
   "cell_type": "markdown",
   "id": "e1c1c645",
   "metadata": {},
   "source": [
    "This seem to be the dollar equvialent. Lets continue with that value"
   ]
  },
  {
   "cell_type": "code",
   "execution_count": 743,
   "id": "921040ac",
   "metadata": {},
   "outputs": [],
   "source": [
    "comp_2019['CompHour'] = (comp_2019['ConvertedComp']/comp_2019['WorkWeekHrs'])/52\n",
    "comp_2020['CompHour'] = (comp_2020['ConvertedComp']/comp_2020['WorkWeekHrs'])/52"
   ]
  },
  {
   "cell_type": "code",
   "execution_count": 744,
   "id": "3d1a1f1c",
   "metadata": {
    "scrolled": true
   },
   "outputs": [
    {
     "data": {
      "text/plain": [
       "count    30233.000000\n",
       "mean        42.988940\n",
       "std        118.351190\n",
       "min          0.000000\n",
       "25%         23.728304\n",
       "50%         35.812370\n",
       "75%         52.329808\n",
       "max      19230.769231\n",
       "Name: CompHour, dtype: float64"
      ]
     },
     "execution_count": 744,
     "metadata": {},
     "output_type": "execute_result"
    }
   ],
   "source": [
    "comp_2019.CompHour.describe()"
   ]
  },
  {
   "cell_type": "markdown",
   "id": "be87c6d6",
   "metadata": {},
   "source": [
    "The Max Compensation per Hour seems a little high. Lets Drop outliers that are above 150$ per hour."
   ]
  },
  {
   "cell_type": "code",
   "execution_count": 745,
   "id": "d621de75",
   "metadata": {},
   "outputs": [],
   "source": [
    "comp_2019['Year'] = '2019'\n",
    "comp_2020['Year'] = '2020'\n",
    "comp_plot = pd.concat([comp_2019, comp_2020])"
   ]
  },
  {
   "cell_type": "code",
   "execution_count": 746,
   "id": "1ee1c323",
   "metadata": {},
   "outputs": [
    {
     "data": {
      "text/plain": [
       "JobSat\n",
       "Neither satisfied nor dissatisfied    37.804502\n",
       "Slightly dissatisfied                 40.614613\n",
       "Slightly satisfied                    40.876709\n",
       "Very dissatisfied                     39.893233\n",
       "Very satisfied                        47.715505\n",
       "Name: CompHour, dtype: float64"
      ]
     },
     "execution_count": 746,
     "metadata": {},
     "output_type": "execute_result"
    }
   ],
   "source": [
    "comp_plot.groupby('JobSat')['CompHour'].mean()"
   ]
  },
  {
   "cell_type": "code",
   "execution_count": 747,
   "id": "c2ed51b6",
   "metadata": {},
   "outputs": [],
   "source": [
    "comp_plot = comp_plot[(comp_plot.CompHour <= 150)]"
   ]
  },
  {
   "cell_type": "code",
   "execution_count": 748,
   "id": "85aefd62",
   "metadata": {
    "scrolled": true
   },
   "outputs": [
    {
     "data": {
      "text/plain": [
       "JobSat\n",
       "Neither satisfied nor dissatisfied    34.919556\n",
       "Slightly dissatisfied                 36.127726\n",
       "Slightly satisfied                    38.611088\n",
       "Very dissatisfied                     36.934632\n",
       "Very satisfied                        44.077588\n",
       "Name: CompHour, dtype: float64"
      ]
     },
     "execution_count": 748,
     "metadata": {},
     "output_type": "execute_result"
    }
   ],
   "source": [
    "comp_plot.groupby('JobSat')['CompHour'].mean()"
   ]
  },
  {
   "cell_type": "code",
   "execution_count": 763,
   "id": "30e48dec",
   "metadata": {},
   "outputs": [
    {
     "data": {
      "text/plain": [
       "<matplotlib.legend.Legend at 0x19fd3ecf550>"
      ]
     },
     "execution_count": 763,
     "metadata": {},
     "output_type": "execute_result"
    },
    {
     "data": {
      "image/png": "[encoded data removed]",
      "text/plain": [
       "<Figure size 1080x576 with 1 Axes>"
      ]
     },
     "metadata": {
      "needs_background": "light"
     },
     "output_type": "display_data"
    }
   ],
   "source": [
    "plt.figure(figsize=(15,8))\n",
    "plt.xlim(-5,150)\n",
    "sns.boxplot(data=comp_plot, x= 'CompHour', y='JobSat', hue='Year',\n",
    "           order = ['Very satisfied', 'Slightly satisfied', 'Neither satisfied nor dissatisfied', \n",
    "                   'Slightly dissatisfied', 'Very dissatisfied'])\n",
    "plt.title('Job Satisfaction per Salary/Hour between 2019 and 2020', fontsize = 14)\n",
    "plt.ylabel('Job Satisfaction', fontsize = 14)\n",
    "plt.xlabel('Dollar per Hour', fontsize = 14)\n",
    "plt.tick_params(labelsize = 14)\n",
    "plt.legend(fontsize='x-large', title_fontsize='40')"
   ]
  },
  {
   "cell_type": "markdown",
   "id": "f1b744b1",
   "metadata": {},
   "source": [
    "# Blopost:\n",
    "\n",
    "https://medium.com/@sascha.pava/how-did-the-pandemic-change-our-work-5ff06e75f6ff"
   ]
  },
  {
   "cell_type": "code",
   "execution_count": null,
   "id": "8a3c7dd7",
   "metadata": {},
   "outputs": [],
   "source": []
  }
 ],
 "metadata": {
  "kernelspec": {
   "display_name": "Python 3",
   "language": "python",
   "name": "python3"
  },
  "language_info": {
   "codemirror_mode": {
    "name": "ipython",
    "version": 3
   },
   "file_extension": ".py",
   "mimetype": "text/x-python",
   "name": "python",
   "nbconvert_exporter": "python",
   "pygments_lexer": "ipython3",
   "version": "3.8.8"
  }
 },
 "nbformat": 4,
 "nbformat_minor": 5
}
